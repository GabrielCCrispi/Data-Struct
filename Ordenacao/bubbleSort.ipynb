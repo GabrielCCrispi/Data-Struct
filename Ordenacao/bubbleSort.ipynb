{
 "cells": [
  {
   "attachments": {},
   "cell_type": "markdown",
   "metadata": {},
   "source": [
    "# <center>Centro Universitário Facens<br/></center>\n",
    "<br/>\n",
    "<font size=\"4\"><center><b>Estrutura de Dados</b></center></font>\n",
    "  \n",
    "<font size=\"3\"><center>Gabriel Coelho Crispi</center></font>\n",
    "<br/>"
   ]
  },
  {
   "cell_type": "markdown",
   "metadata": {},
   "source": [
    "# <center>Ordenação</center>"
   ]
  },
  {
   "cell_type": "markdown",
   "metadata": {},
   "source": [
    "## Ordenação - Bolha (bubble sort)\n",
    "\n",
    "Versão original"
   ]
  },
  {
   "cell_type": "code",
   "execution_count": 1,
   "metadata": {},
   "outputs": [
    {
     "name": "stdout",
     "output_type": "stream",
     "text": [
      "[2, 4, 8, 13, 23, 40, 49, 52, 53, 63, 66, 74, 81, 83, 83, 96, 99]\n"
     ]
    }
   ],
   "source": [
    "def bubble_sort( lista ):\n",
    "\n",
    "    vec = lista.copy() #cria uma cópia de vector, mas com um endereço de referência diferente\n",
    "    \n",
    "    for i in range( len(vec)-1,0,-1 ): \n",
    "\n",
    "        for j in range( 0,i ): \n",
    "         \n",
    "            if vec[j] > vec[j+1]:\n",
    "\n",
    "                aux = vec[j]\n",
    "                vec[j] = vec[j+1]\n",
    "                vec[j+1] = aux\n",
    "\n",
    "    return vec\n",
    "\n",
    "# testa o algoritmo\n",
    "lista = [49, 83, 52, 63, 81, 53, 99, 83, 96, 40, 13, 8, 23, 66, 2, 74, 4]\n",
    "lista  = bubble_sort(lista)\n",
    "\n",
    "print(lista)"
   ]
  },
  {
   "cell_type": "markdown",
   "metadata": {},
   "source": [
    "## Ordenação - Bolha melhorada\n",
    "\n",
    "O algoritmo foi modificado para conseguir identificar quando houve uma iteração completa sem nenhuma troca, o que significa que os dados já estão ordenados. "
   ]
  },
  {
   "cell_type": "code",
   "execution_count": 2,
   "metadata": {},
   "outputs": [
    {
     "name": "stdout",
     "output_type": "stream",
     "text": [
      "[2, 4, 8, 13, 23, 40, 49, 52, 53, 63, 66, 74, 81, 83, 83, 96, 99]\n"
     ]
    }
   ],
   "source": [
    "def bubble_sort( lista ):\n",
    "    \"\"\"\n",
    "    Método bolha com melhoria da complexidade no melhor caso\n",
    "    \"\"\"\n",
    "    \n",
    "    # cria uma cópia de lista, mas com um endereço de \n",
    "    # referência diferente para nao modificar o vetor original\n",
    "    vec = lista.copy() \n",
    "    \n",
    "    # percorre o vetor do final até o começo\n",
    "    for i in range( len(vec)-1,0,-1 ): \n",
    "        houveTroca = False\n",
    "\n",
    "        # percorre do início até a parte que já está ordenada\n",
    "        for j in range( 0,i ): \n",
    "         \n",
    "            if vec[j] > vec[j+1]:\n",
    "\n",
    "                houveTroca = True\n",
    "\n",
    "                aux = vec[j]\n",
    "                vec[j] = vec[j+1]\n",
    "                vec[j+1] = aux\n",
    "\n",
    "        if houveTroca is False:\n",
    "          return vec\n",
    "        \n",
    "    return vec\n",
    "\n",
    "# testa o algoritmo\n",
    "lista = [49, 83, 52, 63, 81, 53, 99, 83, 96, 40, 13, 8, 23, 66, 2, 74, 4]\n",
    "lista  = bubble_sort(lista)\n",
    "\n",
    "print(lista)"
   ]
  },
  {
   "cell_type": "markdown",
   "metadata": {},
   "source": [
    "## Ordenação - Bolha (bubble sort)\n",
    "\n",
    "O algoritmo foi modificado para guardar o índice do vetor até o momento em que houve a primeira troca para que não precise fazer comparações desnecessárias.\n"
   ]
  },
  {
   "cell_type": "code",
   "execution_count": 3,
   "metadata": {},
   "outputs": [
    {
     "name": "stdout",
     "output_type": "stream",
     "text": [
      "[2, 4, 8, 13, 23, 40, 49, 52, 53, 63, 66, 74, 81, 83, 83, 96, 99]\n"
     ]
    }
   ],
   "source": [
    "def bubble_sort( vector ):\n",
    "\n",
    "    vec = vector.copy() # cria uma cópia de vector, mas com um endereço de referência diferente\n",
    "\n",
    "    primeiraTroca = 0\n",
    "    for i in range( len(vec)-1,0,-1 ): \n",
    "\n",
    "        houveTroca = False\n",
    "        \n",
    "        for j in range( primeiraTroca,i ): \n",
    "\n",
    "            if vec[j] > vec[j+1]:\n",
    "\n",
    "                if not houveTroca and j>0:\n",
    "                  primeiraTroca = j-1\n",
    "\n",
    "                houveTroca = True\n",
    "\n",
    "                aux = vec[j]\n",
    "                vec[j] = vec[j+1]\n",
    "                vec[j+1] = aux\n",
    "\n",
    "        if houveTroca is False:\n",
    "          return vec\n",
    "        \n",
    "    return vec\n",
    "\n",
    "# testa o algoritmo\n",
    "lista = [49, 83, 52, 63, 81, 53, 99, 83, 96, 40, 13, 8, 23, 66, 2, 74, 4]\n",
    "lista = bubble_sort(lista)\n",
    "\n",
    "print(lista)"
   ]
  }
 ],
 "metadata": {
  "kernelspec": {
   "display_name": "Python 3 (ipykernel)",
   "language": "python",
   "name": "python3"
  },
  "language_info": {
   "codemirror_mode": {
    "name": "ipython",
    "version": 3
   },
   "file_extension": ".py",
   "mimetype": "text/x-python",
   "name": "python",
   "nbconvert_exporter": "python",
   "pygments_lexer": "ipython3",
   "version": "3.9.13"
  }
 },
 "nbformat": 4,
 "nbformat_minor": 4
}
