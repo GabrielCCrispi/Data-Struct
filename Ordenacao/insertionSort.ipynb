{
 "cells": [
  {
   "attachments": {},
   "cell_type": "markdown",
   "metadata": {},
   "source": [
    "# <center>Centro Universitário Facens<br/></center>\n",
    "<br/>\n",
    "<font size=\"4\"><center><b>Estrutura de Dados</b></center></font>\n",
    "  \n",
    "<font size=\"3\"><center>Gabriel Coelho Crispi</center></font>\n",
    "<br/>"
   ]
  },
  {
   "attachments": {},
   "cell_type": "markdown",
   "metadata": {},
   "source": [
    "# <center>Ordenação</center>"
   ]
  },
  {
   "attachments": {},
   "cell_type": "markdown",
   "metadata": {},
   "source": [
    "## Ordenação - insertion sort"
   ]
  },
  {
   "cell_type": "code",
   "execution_count": 4,
   "metadata": {},
   "outputs": [
    {
     "name": "stdout",
     "output_type": "stream",
     "text": [
      "[2, 4, 8, 13, 23, 40, 49, 52, 53, 63, 66, 74, 81, 83, 83, 96, 99]\n"
     ]
    }
   ],
   "source": [
    "def insertion_sort( vector ):\n",
    "\n",
    "    vec = vector.copy() #cria uma cópia de vector, mas com um endereço de referência diferente\n",
    "\n",
    "    for i in range( 1,len(vec) ):\n",
    "        aux = vec[i]\n",
    "        j = i-1\n",
    "        while j>=0 and vec[j]>aux:\n",
    "            vec[j+1] = vec[j]\n",
    "            j = j-1\n",
    "            \n",
    "        vec[j+1] = aux\n",
    "        \n",
    "    return vec\n",
    "\n",
    "# testa o algoritmo\n",
    "lista = [49, 83, 52, 63, 81, 53, 99, 83, 96, 40, 13, 8, 23, 66, 2, 74, 4]\n",
    "lista  = insertion_sort(lista)\n",
    "\n",
    "print(lista)"
   ]
  }
 ],
 "metadata": {
  "kernelspec": {
   "display_name": "Python 3 (ipykernel)",
   "language": "python",
   "name": "python3"
  },
  "language_info": {
   "codemirror_mode": {
    "name": "ipython",
    "version": 3
   },
   "file_extension": ".py",
   "mimetype": "text/x-python",
   "name": "python",
   "nbconvert_exporter": "python",
   "pygments_lexer": "ipython3",
   "version": "3.9.13"
  }
 },
 "nbformat": 4,
 "nbformat_minor": 4
}
