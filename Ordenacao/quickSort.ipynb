{
 "cells": [
  {
   "attachments": {},
   "cell_type": "markdown",
   "metadata": {},
   "source": [
    "# <center>Centro Universitário Facens<br/></center>\n",
    "<br/>\n",
    "<font size=\"4\"><center><b>Estrutura de Dados</b></center></font>\n",
    "  \n",
    "<font size=\"3\"><center>Gabriel Coelho Crispi</center></font>\n",
    "<br/>"
   ]
  },
  {
   "attachments": {},
   "cell_type": "markdown",
   "metadata": {},
   "source": [
    "# <center>Ordenação</center>"
   ]
  },
  {
   "attachments": {},
   "cell_type": "markdown",
   "metadata": {},
   "source": [
    "## Ordenação - quick sort\n",
    "\n",
    "Abaixo é apresentado o algoritmo de ordenação *quick sort* usando o primeiro elemento da lista como pivô."
   ]
  },
  {
   "cell_type": "code",
   "execution_count": 5,
   "metadata": {},
   "outputs": [
    {
     "name": "stdout",
     "output_type": "stream",
     "text": [
      "[2, 4, 8, 13, 23, 40, 49, 52, 53, 63, 66, 74, 81, 83, 83, 96, 99]\n"
     ]
    }
   ],
   "source": [
    "def quick_sort( vec, initVec=None, fimVec=None ):\n",
    "    \n",
    "    if initVec is None: \n",
    "        initVec = 0\n",
    "    if fimVec is None: \n",
    "        fimVec = len(vec)-1\n",
    "    \n",
    "    # escolhendo o valor inicial da lista como pivo\n",
    "    pivot = vec[ initVec ]\n",
    "    leftMark = initVec+1\n",
    "    rightMark = fimVec\n",
    "    \n",
    "    while leftMark <= rightMark:\n",
    "        if vec[leftMark] < pivot:\n",
    "            leftMark = leftMark+1;\n",
    "        elif vec[rightMark] > pivot:\n",
    "            rightMark = rightMark-1;\n",
    "        else:\n",
    "            aux = vec[leftMark]\n",
    "            vec[leftMark] = vec[rightMark]\n",
    "            vec[rightMark] = aux\n",
    "            leftMark = leftMark+1\n",
    "            rightMark = rightMark-1\n",
    "    \n",
    "    vec[ initVec ] = vec[rightMark]\n",
    "    vec[rightMark] = pivot; \n",
    "  \n",
    "    if rightMark > initVec:\n",
    "        quick_sort( vec, initVec, rightMark)\n",
    "    if leftMark < fimVec:\n",
    "        quick_sort( vec, leftMark, fimVec)\n",
    "        \n",
    "    return vec\n",
    "\n",
    "\n",
    "# testa o algoritmo\n",
    "lista = [49, 83, 52, 63, 81, 53, 99, 83, 96, 40, 13, 8, 23, 66, 2, 74, 4]\n",
    "lista  = quick_sort( lista.copy() )\n",
    "\n",
    "print(lista)"
   ]
  }
 ],
 "metadata": {
  "kernelspec": {
   "display_name": "Python 3 (ipykernel)",
   "language": "python",
   "name": "python3"
  },
  "language_info": {
   "codemirror_mode": {
    "name": "ipython",
    "version": 3
   },
   "file_extension": ".py",
   "mimetype": "text/x-python",
   "name": "python",
   "nbconvert_exporter": "python",
   "pygments_lexer": "ipython3",
   "version": "3.9.13"
  }
 },
 "nbformat": 4,
 "nbformat_minor": 4
}
