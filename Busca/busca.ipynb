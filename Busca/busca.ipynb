{
 "cells": [
  {
   "cell_type": "code",
   "execution_count": 21,
   "metadata": {},
   "outputs": [
    {
     "name": "stdout",
     "output_type": "stream",
     "text": [
      "False\n",
      "False\n",
      "False\n"
     ]
    },
    {
     "data": {
      "text/plain": [
       "True"
      ]
     },
     "execution_count": 21,
     "metadata": {},
     "output_type": "execute_result"
    }
   ],
   "source": [
    "def buscaSequencial():\n",
    "    lista = [4,7,3,2,6,5,1,2]\n",
    "    num = 2\n",
    "    for i in range (len(lista)):\n",
    "       if lista[i] == num:\n",
    "            return True\n",
    "       else: \n",
    "           print(False)\n",
    "\n",
    "buscaSequencial() "
   ]
  },
  {
   "cell_type": "code",
   "execution_count": 24,
   "metadata": {},
   "outputs": [],
   "source": [
    "def buscaLinear(lista, n, i=0):\n",
    "    \n",
    "    if lista[i] ==n:\n",
    "        return True\n",
    "    \n",
    "    if i > len(lista)-1:\n",
    "        return True\n",
    "    elif i > len(lista)-1:\n",
    "        return False\n",
    "    \n",
    "    else:\n",
    "        return buscaLinear(lista, n, i+1)\n",
    "    \n",
    "\n",
    "def busca2(lista, n):\n",
    "    \n",
    "    if lista[0] == n:\n",
    "        return True\n",
    "    \n",
    "    elif len(lista) == 1:\n",
    "        return False\n",
    "    \n",
    "    else:   \n",
    "        return busca2(lista[1:], n)\n",
    "\n",
    "\n",
    "#Exercicio igual o de cima, porém essa é a versão do professor    "
   ]
  }
 ],
 "metadata": {
  "kernelspec": {
   "display_name": "Python 3",
   "language": "python",
   "name": "python3"
  },
  "language_info": {
   "codemirror_mode": {
    "name": "ipython",
    "version": 3
   },
   "file_extension": ".py",
   "mimetype": "text/x-python",
   "name": "python",
   "nbconvert_exporter": "python",
   "pygments_lexer": "ipython3",
   "version": "3.10.10"
  },
  "orig_nbformat": 4
 },
 "nbformat": 4,
 "nbformat_minor": 2
}
